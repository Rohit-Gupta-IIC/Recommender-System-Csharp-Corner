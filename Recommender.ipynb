{
 "cells": [
  {
   "cell_type": "code",
   "execution_count": 1,
   "metadata": {},
   "outputs": [],
   "source": [
    "import numpy as np\n",
    "import pandas as pd\n",
    "import csv"
   ]
  },
  {
   "cell_type": "code",
   "execution_count": 2,
   "metadata": {},
   "outputs": [
    {
     "name": "stdout",
     "output_type": "stream",
     "text": [
      "D:\\Study Material\\ML\\Dataset\n"
     ]
    }
   ],
   "source": [
    "cd Dataset"
   ]
  },
  {
   "cell_type": "code",
   "execution_count": 3,
   "metadata": {
    "scrolled": true
   },
   "outputs": [
    {
     "name": "stderr",
     "output_type": "stream",
     "text": [
      "C:\\Users\\Rohit Gupta\\Anaconda3\\lib\\site-packages\\lightfm\\_lightfm_fast.py:9: UserWarning: LightFM was compiled without OpenMP support. Only a single thread will be used.\n",
      "  warnings.warn('LightFM was compiled without OpenMP support. '\n"
     ]
    }
   ],
   "source": [
    "from lightfm import LightFM\n",
    "from lightfm.evaluation import precision_at_k\n",
    "from lightfm.evaluation import auc_score\n",
    "js = pd.read_csv('all_articles_blogs.csv', encoding='latin-1')"
   ]
  },
  {
   "cell_type": "code",
   "execution_count": 4,
   "metadata": {},
   "outputs": [
    {
     "name": "stdout",
     "output_type": "stream",
     "text": [
      "OrderedDict([('a', 'l')])\n",
      "OrderedDict([('a', 'l')])\n",
      "OrderedDict([('a', '_')])\n",
      "OrderedDict([('a', 'a')])\n",
      "OrderedDict([('a', 'r')])\n",
      "OrderedDict([('a', 't')])\n",
      "OrderedDict([('a', 'i')])\n",
      "OrderedDict([('a', 'c')])\n",
      "OrderedDict([('a', 'l')])\n",
      "OrderedDict([('a', 'e')])\n",
      "OrderedDict([('a', 's')])\n",
      "OrderedDict([('a', '_')])\n",
      "OrderedDict([('a', 'b')])\n",
      "OrderedDict([('a', 'l')])\n",
      "OrderedDict([('a', 'o')])\n",
      "OrderedDict([('a', 'g')])\n",
      "OrderedDict([('a', 's')])\n",
      "OrderedDict([('a', '.')])\n",
      "OrderedDict([('a', 'c')])\n",
      "OrderedDict([('a', 's')])\n",
      "OrderedDict([('a', 'v')])\n"
     ]
    }
   ],
   "source": [
    "data =  csv.DictReader(\"all_articles_blogs.csv\")\n",
    "for x in data:\n",
    "    print(x)"
   ]
  },
  {
   "cell_type": "code",
   "execution_count": 5,
   "metadata": {},
   "outputs": [],
   "source": [
    "js = pd.read_csv('all_articles_blogs.csv', encoding='latin-1')\n",
    "from sklearn.utils import shuffle\n",
    "#js = shuffle(js)\n",
    "\n",
    "def preprocessing1():\n",
    "    from sklearn.feature_extraction.text import TfidfVectorizer\n",
    "\n",
    "    tfv = TfidfVectorizer(min_df=3,  max_features=None, \n",
    "                strip_accents='unicode', analyzer='word',\n",
    "                token_pattern=r'\\w{3,}', # tokenizer word of 3+ characters\n",
    "                ngram_range=(1, 3), # make a most 3 clusters of word\n",
    "                stop_words = 'english')\n",
    "\n",
    "    # Filling NaNs with empty string\n",
    "    js['ArticleTitle'] = js['ArticleTitle'].fillna('')\n",
    "    tfv_matrix = tfv.fit_transform(js['ArticleTitle'])\n",
    "    \n",
    "    from sklearn.metrics.pairwise import sigmoid_kernel as kernel\n",
    "\n",
    "    # Compute the sigmoid kernel\n",
    "    sig = kernel(tfv_matrix, tfv_matrix)\n",
    "    \n",
    "    indices = pd.Series(js.index, index=js['ArticleFullPath']).drop_duplicates()\n",
    "    return indices, sig\n",
    "\n",
    "def give_rec1(title):\n",
    "    indices, sig =preprocessing1()\n",
    "    # Get the index corresponding to original_title\n",
    "    idx = indices[title]\n",
    "\n",
    "    # Get the pairwsie similarity scores \n",
    "    sig_scores = list(enumerate(sig[idx]))\n",
    "\n",
    "    # Sort the movies \n",
    "    sig_scores = sorted(sig_scores, key=lambda x: x[1], reverse=True)\n",
    "\n",
    "    # Scores of the 10 most similar movies\n",
    "    sig_scores = sig_scores[1:6]\n",
    "\n",
    "    # Movie indices\n",
    "    movie_indices = [i[0] for i in sig_scores]\n",
    "\n",
    "    # Top 10 most similar movies\n",
    "    return js['ArticleFullPath'].iloc[movie_indices]\n",
    "\n",
    "def recommender1(link):\n",
    "    result = give_rec1(link)\n",
    "    for i in result.index:\n",
    "        print(js['Category'][i], js['Type'][i], js['ArticleFullPath'][i])"
   ]
  },
  {
   "cell_type": "code",
   "execution_count": 6,
   "metadata": {},
   "outputs": [],
   "source": [
    "all_article = pd.read_csv('all_articles_blogs_cleaned.csv', encoding='latin-1')\n",
    "all_article['new_field'] = all_article['Category']+\" \"+all_article['Type']+\" \"+all_article['ArticleTitle']\n",
    "from sklearn.utils import shuffle\n",
    "all_article = shuffle(all_article)\n",
    "\n",
    "def preprocessing2():\n",
    "    from sklearn.feature_extraction.text import TfidfVectorizer\n",
    "\n",
    "    tfv = TfidfVectorizer(min_df=3,  max_features=None, \n",
    "                strip_accents='unicode', analyzer='word',token_pattern=r'\\w{3,}',\n",
    "                ngram_range=(1, 3),\n",
    "                stop_words = 'english')\n",
    "\n",
    "    # Filling NaNs with empty string\n",
    "    all_article['new_field'] = all_article['new_field'].fillna('')\n",
    "    tfv_matrix = tfv.fit_transform(all_article['new_field'])\n",
    "\n",
    "    from sklearn.metrics.pairwise import sigmoid_kernel\n",
    "\n",
    "    # Compute the sigmoid kernel\n",
    "    sig = sigmoid_kernel(tfv_matrix, tfv_matrix)\n",
    "\n",
    "    indices = pd.Series(js.index, index=all_article['ArticleFullPath']).drop_duplicates()\n",
    "    return indices, sig\n",
    "\n",
    "def give_rec2(title):\n",
    "    \n",
    "    indices, sig = preprocessing2()\n",
    "    # Get the index corresponding to original_title\n",
    "    idx = indices[title]\n",
    "\n",
    "    # Get the pairwsie similarity scores \n",
    "    sig_scores = list(enumerate(sig[idx]))\n",
    "\n",
    "    # Sort the movies \n",
    "    sig_scores = sorted(sig_scores, key=lambda x: x[1], reverse=True)\n",
    "\n",
    "    # Scores of the 10 most similar movies\n",
    "    sig_scores = sig_scores[1:6]\n",
    "\n",
    "    # Movie indices\n",
    "    movie_indices = [i[0] for i in sig_scores]\n",
    "\n",
    "    # Top 10 most similar movies\n",
    "    return all_article['ArticleFullPath'].iloc[movie_indices]\n",
    "\n",
    "def recommender2(link):\n",
    "    result = give_rec2(link)\n",
    "    for i in result.index:\n",
    "        print(js['Category'][i], js['Type'][i], js['ArticleFullPath'][i])"
   ]
  },
  {
   "cell_type": "code",
   "execution_count": 7,
   "metadata": {
    "scrolled": true
   },
   "outputs": [
    {
     "name": "stdout",
     "output_type": "stream",
     "text": [
      "Java Article https://www.c-sharpcorner.com/UploadFile/433c33/working-with-stack-class-of-collection-in-java/\n",
      "Java Article https://www.c-sharpcorner.com/UploadFile/433c33/garbage-collection-in-java/\n",
      "Java Article https://www.c-sharpcorner.com/UploadFile/3614a6/garbage-collection-in-java/\n",
      "Java Article https://www.c-sharpcorner.com/article/garbage-collection-in-java/\n",
      "Java Article https://www.c-sharpcorner.com/UploadFile/fd0172/working-with-collection-framework-in-java/\n",
      "\n",
      "\n",
      "Java Article https://www.c-sharpcorner.com/UploadFile/433c33/working-with-collection-class-in-java/\n",
      "Java Article https://www.c-sharpcorner.com/UploadFile/fd0172/working-with-collection-framework-in-java/\n",
      "Java Article https://www.c-sharpcorner.com/UploadFile/fd0172/how-to-provide-joining-and-naming-to-threads-in-java/\n",
      "Java Article https://www.c-sharpcorner.com/UploadFile/3614a6/comparable-and-comparator-interface-in-java/\n",
      "Java Article https://www.c-sharpcorner.com/UploadFile/3614a6/throw-and-throws-in-java/\n"
     ]
    }
   ],
   "source": [
    "recommender1('https://www.c-sharpcorner.com/uploadfile/73d82f/collection-in-java/')\n",
    "print(\"\\n\")\n",
    "recommender2('https://www.c-sharpcorner.com/uploadfile/73d82f/collection-in-java/')"
   ]
  },
  {
   "cell_type": "code",
   "execution_count": 8,
   "metadata": {},
   "outputs": [
    {
     "name": "stdout",
     "output_type": "stream",
     "text": [
      "IoT Article https://www.c-sharpcorner.com/UploadFile/7d4524/pulse-checking-sensor-using-arduinomega2560/\n",
      "IoT Article https://www.c-sharpcorner.com/article/checking-temperature-and-humidity-using-arduino-mega-2560/\n",
      "IoT Article https://www.c-sharpcorner.com/article/connecting-pulse-sensor-with-android-app-using-arduino-mega-2560/\n",
      "IoT Article https://www.c-sharpcorner.com/UploadFile/d15fb8/gsm900-module-with-arduino-mega/\n",
      "IoT Article https://www.c-sharpcorner.com/UploadFile/7d4524/introduction-of-arduinomega-2560/\n",
      "\n",
      "\n",
      "IoT Article https://www.c-sharpcorner.com/UploadFile/7d4524/pulse-checking-sensor-using-arduinomega2560/\n",
      "IoT Article https://www.c-sharpcorner.com/UploadFile/d15fb8/gsm900-module-with-arduino-mega/\n",
      "IoT Article https://www.c-sharpcorner.com/article/checking-temperature-and-humidity-using-arduino-mega-2560/\n",
      "IoT Article https://www.c-sharpcorner.com/UploadFile/d15fb8/liquid-crystal-display-with-arduino-mega-2560/\n",
      "IoT Article https://www.c-sharpcorner.com/UploadFile/7d4524/identifying-water-leaking-by-arduino-mega/\n"
     ]
    }
   ],
   "source": [
    "recommender1('https://www.c-sharpcorner.com/UploadFile/7d4524/easy-heart-beat-pulse-through-arduinomega/')\n",
    "print(\"\\n\")\n",
    "recommender2('https://www.c-sharpcorner.com/UploadFile/7d4524/easy-heart-beat-pulse-through-arduinomega/')"
   ]
  },
  {
   "cell_type": "code",
   "execution_count": 9,
   "metadata": {},
   "outputs": [
    {
     "name": "stdout",
     "output_type": "stream",
     "text": [
      "Java Article https://www.c-sharpcorner.com/UploadFile/fd0172/working-of-list-intreface-and-linkedlist-class-in-java-colle/\n",
      "Java Article https://www.c-sharpcorner.com/UploadFile/0d4935/working-with-bigdecimal-class-in-java/\n",
      "Java Article https://www.c-sharpcorner.com/UploadFile/433c33/working-with-linklist-class-in-java/\n",
      "Java Article https://www.c-sharpcorner.com/UploadFile/433c33/working-with-hashmap-class-in-java/\n",
      "Java Article https://www.c-sharpcorner.com/UploadFile/433c33/working-gradientpaint-class-in-java/\n",
      "\n",
      "\n",
      "Java Article https://www.c-sharpcorner.com/UploadFile/fd0172/working-of-list-intreface-and-linkedlist-class-in-java-colle/\n",
      "Java Article https://www.c-sharpcorner.com/UploadFile/433c33/working-with-stack-class-of-collection-in-java/\n",
      "Java Article https://www.c-sharpcorner.com/UploadFile/433c33/working-with-cipher-class-in-java-for-achieving-cryptograph/\n",
      "Java Article https://www.c-sharpcorner.com/UploadFile/433c33/working-with-dictionary-class-in-java/\n",
      "Java Article https://www.c-sharpcorner.com/UploadFile/433c33/working-with-bitset-class-in-java/\n"
     ]
    }
   ],
   "source": [
    "recommender1('https://www.c-sharpcorner.com/UploadFile/433c33/working-with-collection-class-in-java/')\n",
    "print(\"\\n\")\n",
    "recommender2('https://www.c-sharpcorner.com/UploadFile/433c33/working-with-collection-class-in-java/')"
   ]
  },
  {
   "cell_type": "code",
   "execution_count": 10,
   "metadata": {
    "scrolled": true
   },
   "outputs": [
    {
     "name": "stdout",
     "output_type": "stream",
     "text": [
      "IoT Article https://www.c-sharpcorner.com/article/home-automation-using-node-mcu-and-mqtt-protocol/\n",
      "IoT Article https://www.c-sharpcorner.com/article/control-3-ledredgreenblue-using-voice-command/\n",
      "IoT Article https://www.c-sharpcorner.com/article/home-automation-using-arduino-uno/\n",
      "IoT Article https://www.c-sharpcorner.com/article/home-automation-using-aurdino/\n",
      "IoT Article https://www.c-sharpcorner.com/article/home-automation-in-windows-froms/\n",
      "\n",
      "\n",
      "IoT Article https://www.c-sharpcorner.com/article/home-automation-using-node-mcu-and-mqtt-protocol/\n",
      "IoT Article https://www.c-sharpcorner.com/article/home-automation-using-arduino-uno/\n",
      "IoT Article https://www.c-sharpcorner.com/article/home-automation-using-aurdino/\n",
      "IoT Article https://www.c-sharpcorner.com/article/home-automation-in-windows-froms/\n",
      "IoT Article https://www.c-sharpcorner.com/article/control-3-ledredgreenblue-using-voice-command/\n"
     ]
    }
   ],
   "source": [
    "recommender1('https://www.c-sharpcorner.com/article/home-automation-using-facebook-chat-and-arduino-esp8266-wifi/')\n",
    "print(\"\\n\")\n",
    "recommender2('https://www.c-sharpcorner.com/article/home-automation-using-facebook-chat-and-arduino-esp8266-wifi/')"
   ]
  },
  {
   "cell_type": "code",
   "execution_count": 16,
   "metadata": {},
   "outputs": [
    {
     "data": {
      "text/html": [
       "<div>\n",
       "<style scoped>\n",
       "    .dataframe tbody tr th:only-of-type {\n",
       "        vertical-align: middle;\n",
       "    }\n",
       "\n",
       "    .dataframe tbody tr th {\n",
       "        vertical-align: top;\n",
       "    }\n",
       "\n",
       "    .dataframe thead th {\n",
       "        text-align: right;\n",
       "    }\n",
       "</style>\n",
       "<table border=\"1\" class=\"dataframe\">\n",
       "  <thead>\n",
       "    <tr style=\"text-align: right;\">\n",
       "      <th></th>\n",
       "      <th>ArticleTitle</th>\n",
       "      <th>ArticleFullPath</th>\n",
       "      <th>Category</th>\n",
       "      <th>Type</th>\n",
       "    </tr>\n",
       "    <tr>\n",
       "      <th>NumericCategory</th>\n",
       "      <th></th>\n",
       "      <th></th>\n",
       "      <th></th>\n",
       "      <th></th>\n",
       "    </tr>\n",
       "  </thead>\n",
       "  <tbody>\n",
       "    <tr>\n",
       "      <th>0</th>\n",
       "      <td>Collection in JAVA</td>\n",
       "      <td>https://www.c-sharpcorner.com/uploadfile/73d82...</td>\n",
       "      <td>Java</td>\n",
       "      <td>Article</td>\n",
       "    </tr>\n",
       "    <tr>\n",
       "      <th>0</th>\n",
       "      <td>Core Java - Start it Now!</td>\n",
       "      <td>https://www.c-sharpcorner.com/UploadFile/ebac9...</td>\n",
       "      <td>Java</td>\n",
       "      <td>Article</td>\n",
       "    </tr>\n",
       "    <tr>\n",
       "      <th>0</th>\n",
       "      <td>Variables And Data Types in Java</td>\n",
       "      <td>https://www.c-sharpcorner.com/uploadfile/ebac9...</td>\n",
       "      <td>Java</td>\n",
       "      <td>Article</td>\n",
       "    </tr>\n",
       "    <tr>\n",
       "      <th>0</th>\n",
       "      <td>Core Java: Type Casting And Conversion</td>\n",
       "      <td>https://www.c-sharpcorner.com/UploadFile/941fc...</td>\n",
       "      <td>Java</td>\n",
       "      <td>Article</td>\n",
       "    </tr>\n",
       "    <tr>\n",
       "      <th>0</th>\n",
       "      <td>Set Path For Java in Windows XP</td>\n",
       "      <td>https://www.c-sharpcorner.com/UploadFile/941fc...</td>\n",
       "      <td>Java</td>\n",
       "      <td>Article</td>\n",
       "    </tr>\n",
       "    <tr>\n",
       "      <th>...</th>\n",
       "      <td>...</td>\n",
       "      <td>...</td>\n",
       "      <td>...</td>\n",
       "      <td>...</td>\n",
       "    </tr>\n",
       "    <tr>\n",
       "      <th>5</th>\n",
       "      <td>How To Secure Your Windows PC</td>\n",
       "      <td>https://www.c-sharpcorner.com/blogs/how-to-sec...</td>\n",
       "      <td>Windows</td>\n",
       "      <td>Blog</td>\n",
       "    </tr>\n",
       "    <tr>\n",
       "      <th>5</th>\n",
       "      <td>Windows 10: New Data Binding Technique</td>\n",
       "      <td>https://www.c-sharpcorner.com/blogs/windows-10...</td>\n",
       "      <td>Windows</td>\n",
       "      <td>Blog</td>\n",
       "    </tr>\n",
       "    <tr>\n",
       "      <th>5</th>\n",
       "      <td>How To Increase Battery Life In Windows 10</td>\n",
       "      <td>https://www.c-sharpcorner.com/blogs/tips-to-in...</td>\n",
       "      <td>Windows</td>\n",
       "      <td>Blog</td>\n",
       "    </tr>\n",
       "    <tr>\n",
       "      <th>5</th>\n",
       "      <td>Enable Windows Photo Viewer On Windows 10</td>\n",
       "      <td>https://www.c-sharpcorner.com/blogs/enable-win...</td>\n",
       "      <td>Windows</td>\n",
       "      <td>Blog</td>\n",
       "    </tr>\n",
       "    <tr>\n",
       "      <th>5</th>\n",
       "      <td>How To Uninstall Apps In Windows 10</td>\n",
       "      <td>https://www.c-sharpcorner.com/blogs/how-to-uni...</td>\n",
       "      <td>Windows</td>\n",
       "      <td>Blog</td>\n",
       "    </tr>\n",
       "  </tbody>\n",
       "</table>\n",
       "<p>3141 rows × 4 columns</p>\n",
       "</div>"
      ],
      "text/plain": [
       "                                               ArticleTitle  \\\n",
       "NumericCategory                                               \n",
       "0                                        Collection in JAVA   \n",
       "0                                 Core Java - Start it Now!   \n",
       "0                          Variables And Data Types in Java   \n",
       "0                    Core Java: Type Casting And Conversion   \n",
       "0                           Set Path For Java in Windows XP   \n",
       "...                                                     ...   \n",
       "5                             How To Secure Your Windows PC   \n",
       "5                    Windows 10: New Data Binding Technique   \n",
       "5                How To Increase Battery Life In Windows 10   \n",
       "5                 Enable Windows Photo Viewer On Windows 10   \n",
       "5                       How To Uninstall Apps In Windows 10   \n",
       "\n",
       "                                                   ArticleFullPath Category  \\\n",
       "NumericCategory                                                               \n",
       "0                https://www.c-sharpcorner.com/uploadfile/73d82...     Java   \n",
       "0                https://www.c-sharpcorner.com/UploadFile/ebac9...     Java   \n",
       "0                https://www.c-sharpcorner.com/uploadfile/ebac9...     Java   \n",
       "0                https://www.c-sharpcorner.com/UploadFile/941fc...     Java   \n",
       "0                https://www.c-sharpcorner.com/UploadFile/941fc...     Java   \n",
       "...                                                            ...      ...   \n",
       "5                https://www.c-sharpcorner.com/blogs/how-to-sec...  Windows   \n",
       "5                https://www.c-sharpcorner.com/blogs/windows-10...  Windows   \n",
       "5                https://www.c-sharpcorner.com/blogs/tips-to-in...  Windows   \n",
       "5                https://www.c-sharpcorner.com/blogs/enable-win...  Windows   \n",
       "5                https://www.c-sharpcorner.com/blogs/how-to-uni...  Windows   \n",
       "\n",
       "                    Type  \n",
       "NumericCategory           \n",
       "0                Article  \n",
       "0                Article  \n",
       "0                Article  \n",
       "0                Article  \n",
       "0                Article  \n",
       "...                  ...  \n",
       "5                   Blog  \n",
       "5                   Blog  \n",
       "5                   Blog  \n",
       "5                   Blog  \n",
       "5                   Blog  \n",
       "\n",
       "[3141 rows x 4 columns]"
      ]
     },
     "execution_count": 16,
     "metadata": {},
     "output_type": "execute_result"
    }
   ],
   "source": [
    "js = pd.read_csv('all_articles_blogs.csv', encoding='latin-1')\n",
    "js.set_index('NumericCategory')"
   ]
  },
  {
   "cell_type": "code",
   "execution_count": 28,
   "metadata": {},
   "outputs": [
    {
     "data": {
      "text/plain": [
       "NumericCategory\n",
       "5    1064\n",
       "2     942\n",
       "0     427\n",
       "1     356\n",
       "4     179\n",
       "3     173\n",
       "Name: ArticleTitle, dtype: int64"
      ]
     },
     "execution_count": 28,
     "metadata": {},
     "output_type": "execute_result"
    }
   ],
   "source": [
    "js.groupby('NumericCategory')['ArticleTitle'].count().sort_values(ascending=False)"
   ]
  },
  {
   "cell_type": "code",
   "execution_count": 29,
   "metadata": {},
   "outputs": [
    {
     "ename": "DataError",
     "evalue": "No numeric types to aggregate",
     "output_type": "error",
     "traceback": [
      "\u001b[1;31m---------------------------------------------------------------------------\u001b[0m",
      "\u001b[1;31mDataError\u001b[0m                                 Traceback (most recent call last)",
      "\u001b[1;32m<ipython-input-29-4cd2039f700e>\u001b[0m in \u001b[0;36m<module>\u001b[1;34m\u001b[0m\n\u001b[1;32m----> 1\u001b[1;33m \u001b[0mjs\u001b[0m\u001b[1;33m.\u001b[0m\u001b[0mgroupby\u001b[0m\u001b[1;33m(\u001b[0m\u001b[1;34m'NumericCategory'\u001b[0m\u001b[1;33m)\u001b[0m\u001b[1;33m[\u001b[0m\u001b[1;34m'ArticleTitle'\u001b[0m\u001b[1;33m]\u001b[0m\u001b[1;33m.\u001b[0m\u001b[0mmean\u001b[0m\u001b[1;33m(\u001b[0m\u001b[1;33m)\u001b[0m\u001b[1;33m.\u001b[0m\u001b[0msort_values\u001b[0m\u001b[1;33m(\u001b[0m\u001b[0mascending\u001b[0m\u001b[1;33m=\u001b[0m\u001b[1;32mFalse\u001b[0m\u001b[1;33m)\u001b[0m\u001b[1;33m\u001b[0m\u001b[1;33m\u001b[0m\u001b[0m\n\u001b[0m",
      "\u001b[1;32m~\\Anaconda3\\lib\\site-packages\\pandas\\core\\groupby\\groupby.py\u001b[0m in \u001b[0;36mmean\u001b[1;34m(self, *args, **kwargs)\u001b[0m\n\u001b[0;32m   1223\u001b[0m         \u001b[0mnv\u001b[0m\u001b[1;33m.\u001b[0m\u001b[0mvalidate_groupby_func\u001b[0m\u001b[1;33m(\u001b[0m\u001b[1;34m\"mean\"\u001b[0m\u001b[1;33m,\u001b[0m \u001b[0margs\u001b[0m\u001b[1;33m,\u001b[0m \u001b[0mkwargs\u001b[0m\u001b[1;33m,\u001b[0m \u001b[1;33m[\u001b[0m\u001b[1;34m\"numeric_only\"\u001b[0m\u001b[1;33m]\u001b[0m\u001b[1;33m)\u001b[0m\u001b[1;33m\u001b[0m\u001b[1;33m\u001b[0m\u001b[0m\n\u001b[0;32m   1224\u001b[0m         return self._cython_agg_general(\n\u001b[1;32m-> 1225\u001b[1;33m             \u001b[1;34m\"mean\"\u001b[0m\u001b[1;33m,\u001b[0m \u001b[0malt\u001b[0m\u001b[1;33m=\u001b[0m\u001b[1;32mlambda\u001b[0m \u001b[0mx\u001b[0m\u001b[1;33m,\u001b[0m \u001b[0maxis\u001b[0m\u001b[1;33m:\u001b[0m \u001b[0mSeries\u001b[0m\u001b[1;33m(\u001b[0m\u001b[0mx\u001b[0m\u001b[1;33m)\u001b[0m\u001b[1;33m.\u001b[0m\u001b[0mmean\u001b[0m\u001b[1;33m(\u001b[0m\u001b[1;33m**\u001b[0m\u001b[0mkwargs\u001b[0m\u001b[1;33m)\u001b[0m\u001b[1;33m,\u001b[0m \u001b[1;33m**\u001b[0m\u001b[0mkwargs\u001b[0m\u001b[1;33m\u001b[0m\u001b[1;33m\u001b[0m\u001b[0m\n\u001b[0m\u001b[0;32m   1226\u001b[0m         )\n\u001b[0;32m   1227\u001b[0m \u001b[1;33m\u001b[0m\u001b[0m\n",
      "\u001b[1;32m~\\Anaconda3\\lib\\site-packages\\pandas\\core\\groupby\\groupby.py\u001b[0m in \u001b[0;36m_cython_agg_general\u001b[1;34m(self, how, alt, numeric_only, min_count)\u001b[0m\n\u001b[0;32m    905\u001b[0m \u001b[1;33m\u001b[0m\u001b[0m\n\u001b[0;32m    906\u001b[0m         \u001b[1;32mif\u001b[0m \u001b[0mlen\u001b[0m\u001b[1;33m(\u001b[0m\u001b[0moutput\u001b[0m\u001b[1;33m)\u001b[0m \u001b[1;33m==\u001b[0m \u001b[1;36m0\u001b[0m\u001b[1;33m:\u001b[0m\u001b[1;33m\u001b[0m\u001b[1;33m\u001b[0m\u001b[0m\n\u001b[1;32m--> 907\u001b[1;33m             \u001b[1;32mraise\u001b[0m \u001b[0mDataError\u001b[0m\u001b[1;33m(\u001b[0m\u001b[1;34m\"No numeric types to aggregate\"\u001b[0m\u001b[1;33m)\u001b[0m\u001b[1;33m\u001b[0m\u001b[1;33m\u001b[0m\u001b[0m\n\u001b[0m\u001b[0;32m    908\u001b[0m \u001b[1;33m\u001b[0m\u001b[0m\n\u001b[0;32m    909\u001b[0m         \u001b[1;32mreturn\u001b[0m \u001b[0mself\u001b[0m\u001b[1;33m.\u001b[0m\u001b[0m_wrap_aggregated_output\u001b[0m\u001b[1;33m(\u001b[0m\u001b[0moutput\u001b[0m\u001b[1;33m)\u001b[0m\u001b[1;33m\u001b[0m\u001b[1;33m\u001b[0m\u001b[0m\n",
      "\u001b[1;31mDataError\u001b[0m: No numeric types to aggregate"
     ]
    }
   ],
   "source": [
    "js.groupby('NumericCategory')['ArticleTitle'].mean().sort_values(ascending=False)"
   ]
  },
  {
   "cell_type": "code",
   "execution_count": 26,
   "metadata": {},
   "outputs": [
    {
     "data": {
      "text/plain": [
       "ArticleTitle       object\n",
       "ArticleFullPath    object\n",
       "Category           object\n",
       "Type               object\n",
       "NumericCategory     int64\n",
       "dtype: object"
      ]
     },
     "execution_count": 26,
     "metadata": {},
     "output_type": "execute_result"
    }
   ],
   "source": [
    "js.dtypes"
   ]
  },
  {
   "cell_type": "code",
   "execution_count": null,
   "metadata": {},
   "outputs": [],
   "source": []
  }
 ],
 "metadata": {
  "kernelspec": {
   "display_name": "Python 3",
   "language": "python",
   "name": "python3"
  },
  "language_info": {
   "codemirror_mode": {
    "name": "ipython",
    "version": 3
   },
   "file_extension": ".py",
   "mimetype": "text/x-python",
   "name": "python",
   "nbconvert_exporter": "python",
   "pygments_lexer": "ipython3",
   "version": "3.7.7"
  }
 },
 "nbformat": 4,
 "nbformat_minor": 4
}
